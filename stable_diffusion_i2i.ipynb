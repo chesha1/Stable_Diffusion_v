{
 "cells": [
  {
   "cell_type": "code",
   "execution_count": 1,
   "id": "f6205c6c-cd7f-4e02-9065-15382d903ee6",
   "metadata": {
    "execution": {
     "iopub.execute_input": "2022-12-13T12:47:20.690913Z",
     "iopub.status.busy": "2022-12-13T12:47:20.690247Z",
     "iopub.status.idle": "2022-12-13T12:47:38.179450Z",
     "shell.execute_reply": "2022-12-13T12:47:38.178588Z",
     "shell.execute_reply.started": "2022-12-13T12:47:20.690849Z"
    }
   },
   "outputs": [
    {
     "name": "stdout",
     "output_type": "stream",
     "text": [
      "Collecting git+https://github.com/huggingface/diffusers.git\n",
      "  Cloning https://github.com/huggingface/diffusers.git to /tmp/pip-req-build-xn_id4ez\n",
      "  Running command git clone --filter=blob:none --quiet https://github.com/huggingface/diffusers.git /tmp/pip-req-build-xn_id4ez\n",
      "  Resolved https://github.com/huggingface/diffusers.git to commit b345c74d4d372e74b87512734b2b64f8f57df6a1\n",
      "  Installing build dependencies ... \u001b[?25ldone\n",
      "\u001b[?25h  Getting requirements to build wheel ... \u001b[?25ldone\n",
      "\u001b[?25h  Preparing metadata (pyproject.toml) ... \u001b[?25ldone\n",
      "\u001b[?25hRequirement already satisfied: transformers in /usr/local/lib/python3.9/dist-packages (4.20.1)\n",
      "Collecting transformers\n",
      "  Downloading transformers-4.25.1-py3-none-any.whl (5.8 MB)\n",
      "\u001b[2K     \u001b[90m━━━━━━━━━━━━━━━━━━━━━━━━━━━━━━━━━━━━━━━━\u001b[0m \u001b[32m5.8/5.8 MB\u001b[0m \u001b[31m87.4 MB/s\u001b[0m eta \u001b[36m0:00:00\u001b[0mta \u001b[36m0:00:01\u001b[0m\n",
      "\u001b[?25hCollecting accelerate\n",
      "  Downloading accelerate-0.15.0-py3-none-any.whl (191 kB)\n",
      "\u001b[2K     \u001b[90m━━━━━━━━━━━━━━━━━━━━━━━━━━━━━━━━━━━━━━\u001b[0m \u001b[32m191.5/191.5 kB\u001b[0m \u001b[31m35.0 MB/s\u001b[0m eta \u001b[36m0:00:00\u001b[0m\n",
      "\u001b[?25hRequirement already satisfied: scipy in /usr/local/lib/python3.9/dist-packages (1.8.1)\n",
      "Collecting scipy\n",
      "  Downloading scipy-1.9.3-cp39-cp39-manylinux_2_17_x86_64.manylinux2014_x86_64.whl (33.8 MB)\n",
      "\u001b[2K     \u001b[90m━━━━━━━━━━━━━━━━━━━━━━━━━━━━━━━━━━━━━━━━\u001b[0m \u001b[32m33.8/33.8 MB\u001b[0m \u001b[31m39.3 MB/s\u001b[0m eta \u001b[36m0:00:00\u001b[0m00:01\u001b[0m00:01\u001b[0m\n",
      "\u001b[?25hRequirement already satisfied: numpy in /usr/local/lib/python3.9/dist-packages (from diffusers==0.10.2) (1.23.1)\n",
      "Requirement already satisfied: requests in /usr/local/lib/python3.9/dist-packages (from diffusers==0.10.2) (2.28.1)\n",
      "Requirement already satisfied: filelock in /usr/local/lib/python3.9/dist-packages (from diffusers==0.10.2) (3.7.1)\n",
      "Collecting huggingface-hub>=0.10.0\n",
      "  Downloading huggingface_hub-0.11.1-py3-none-any.whl (182 kB)\n",
      "\u001b[2K     \u001b[90m━━━━━━━━━━━━━━━━━━━━━━━━━━━━━━━━━━━━━━\u001b[0m \u001b[32m182.4/182.4 kB\u001b[0m \u001b[31m43.6 MB/s\u001b[0m eta \u001b[36m0:00:00\u001b[0m\n",
      "\u001b[?25hRequirement already satisfied: importlib-metadata in /usr/local/lib/python3.9/dist-packages (from diffusers==0.10.2) (4.12.0)\n",
      "Requirement already satisfied: Pillow in /usr/local/lib/python3.9/dist-packages (from diffusers==0.10.2) (9.2.0)\n",
      "Requirement already satisfied: regex!=2019.12.17 in /usr/local/lib/python3.9/dist-packages (from diffusers==0.10.2) (2022.7.9)\n",
      "Requirement already satisfied: tqdm>=4.27 in /usr/local/lib/python3.9/dist-packages (from transformers) (4.64.0)\n",
      "Requirement already satisfied: pyyaml>=5.1 in /usr/local/lib/python3.9/dist-packages (from transformers) (5.4.1)\n",
      "Requirement already satisfied: packaging>=20.0 in /usr/local/lib/python3.9/dist-packages (from transformers) (21.3)\n",
      "Requirement already satisfied: tokenizers!=0.11.3,<0.14,>=0.11.1 in /usr/local/lib/python3.9/dist-packages (from transformers) (0.12.1)\n",
      "Requirement already satisfied: torch>=1.4.0 in /usr/local/lib/python3.9/dist-packages (from accelerate) (1.12.0+cu116)\n",
      "Requirement already satisfied: psutil in /usr/local/lib/python3.9/dist-packages (from accelerate) (5.9.1)\n",
      "Requirement already satisfied: typing-extensions>=3.7.4.3 in /usr/local/lib/python3.9/dist-packages (from huggingface-hub>=0.10.0->diffusers==0.10.2) (4.3.0)\n",
      "Requirement already satisfied: pyparsing!=3.0.5,>=2.0.2 in /usr/local/lib/python3.9/dist-packages (from packaging>=20.0->transformers) (3.0.9)\n",
      "Requirement already satisfied: zipp>=0.5 in /usr/local/lib/python3.9/dist-packages (from importlib-metadata->diffusers==0.10.2) (3.8.1)\n",
      "Requirement already satisfied: urllib3<1.27,>=1.21.1 in /usr/local/lib/python3.9/dist-packages (from requests->diffusers==0.10.2) (1.26.10)\n",
      "Requirement already satisfied: charset-normalizer<3,>=2 in /usr/local/lib/python3.9/dist-packages (from requests->diffusers==0.10.2) (2.1.0)\n",
      "Requirement already satisfied: certifi>=2017.4.17 in /usr/lib/python3/dist-packages (from requests->diffusers==0.10.2) (2019.11.28)\n",
      "Requirement already satisfied: idna<4,>=2.5 in /usr/lib/python3/dist-packages (from requests->diffusers==0.10.2) (2.8)\n",
      "Building wheels for collected packages: diffusers\n",
      "  Building wheel for diffusers (pyproject.toml) ... \u001b[?25ldone\n",
      "\u001b[?25h  Created wheel for diffusers: filename=diffusers-0.10.2-py3-none-any.whl size=504247 sha256=c1afa299b4db1bbdc70995a707e2781ee0c7f77f575857952a4cba6eac48137f\n",
      "  Stored in directory: /tmp/pip-ephem-wheel-cache-uia1n3_e/wheels/3a/75/ac/2724a3c688984d6b999006bb9f6b10275f59cf50377b74c585\n",
      "Successfully built diffusers\n",
      "Installing collected packages: scipy, huggingface-hub, accelerate, transformers, diffusers\n",
      "  Attempting uninstall: scipy\n",
      "    Found existing installation: scipy 1.8.1\n",
      "    Uninstalling scipy-1.8.1:\n",
      "      Successfully uninstalled scipy-1.8.1\n",
      "  Attempting uninstall: huggingface-hub\n",
      "    Found existing installation: huggingface-hub 0.8.1\n",
      "    Uninstalling huggingface-hub-0.8.1:\n",
      "      Successfully uninstalled huggingface-hub-0.8.1\n",
      "  Attempting uninstall: transformers\n",
      "    Found existing installation: transformers 4.20.1\n",
      "    Uninstalling transformers-4.20.1:\n",
      "      Successfully uninstalled transformers-4.20.1\n",
      "Successfully installed accelerate-0.15.0 diffusers-0.10.2 huggingface-hub-0.11.1 scipy-1.9.3 transformers-4.25.1\n",
      "\u001b[33mWARNING: Running pip as the 'root' user can result in broken permissions and conflicting behaviour with the system package manager. It is recommended to use a virtual environment instead: https://pip.pypa.io/warnings/venv\u001b[0m\u001b[33m\n",
      "\u001b[0mNote: you may need to restart the kernel to use updated packages.\n"
     ]
    }
   ],
   "source": [
    "pip install --upgrade git+https://github.com/huggingface/diffusers.git transformers accelerate scipy"
   ]
  },
  {
   "cell_type": "code",
   "execution_count": 23,
   "id": "2fa1c104-47a5-43c8-a1a0-11d1a2b568ac",
   "metadata": {
    "execution": {
     "iopub.execute_input": "2022-12-13T17:26:04.033480Z",
     "iopub.status.busy": "2022-12-13T17:26:04.033129Z",
     "iopub.status.idle": "2022-12-13T17:27:08.359147Z",
     "shell.execute_reply": "2022-12-13T17:27:08.358485Z",
     "shell.execute_reply.started": "2022-12-13T17:26:04.033454Z"
    }
   },
   "outputs": [
    {
     "data": {
      "application/vnd.jupyter.widget-view+json": {
       "model_id": "db25070f7a52408a960f0c48d2c0450a",
       "version_major": 2,
       "version_minor": 0
      },
      "text/plain": [
       "  0%|          | 0/90 [00:00<?, ?it/s]"
      ]
     },
     "metadata": {},
     "output_type": "display_data"
    },
    {
     "data": {
      "application/vnd.jupyter.widget-view+json": {
       "model_id": "ff61086559d441c08b9e51960678b93c",
       "version_major": 2,
       "version_minor": 0
      },
      "text/plain": [
       "  0%|          | 0/90 [00:00<?, ?it/s]"
      ]
     },
     "metadata": {},
     "output_type": "display_data"
    },
    {
     "data": {
      "application/vnd.jupyter.widget-view+json": {
       "model_id": "4c6c6ecb053c46da9badb911b2cb3eea",
       "version_major": 2,
       "version_minor": 0
      },
      "text/plain": [
       "  0%|          | 0/90 [00:00<?, ?it/s]"
      ]
     },
     "metadata": {},
     "output_type": "display_data"
    }
   ],
   "source": [
    "import torch\n",
    "import requests\n",
    "from PIL import Image\n",
    "from io import BytesIO\n",
    "\n",
    "from diffusers import StableDiffusionImg2ImgPipeline, DPMSolverMultistepScheduler\n",
    "\n",
    "# load the pipeline\n",
    "device = \"cuda\"\n",
    "model_id = \"./sd-2-1/stable-diffusion-2-1\"\n",
    "pipe = StableDiffusionImg2ImgPipeline.from_pretrained(model_id, revision=\"fp16\", torch_dtype=torch.float16, use_auth_token=True, safety_checker=None, feature_extractor=None)\n",
    "pipe.scheduler = DPMSolverMultistepScheduler.from_config(pipe.scheduler.config)\n",
    "\n",
    "pipe = pipe.to(device)\n",
    "\n",
    "init_image = Image.open(\"./sketch-mountains-input.jpg\")\n",
    "width, height = init_image.size\n",
    "# init_image = init_image.resize((768, 512))\n",
    "# import pdb;pdb.set_trace()\n",
    "\n",
    "prompt = \"A fantasy landscape, trending on artstation\"\n",
    "strength = 0.9\n",
    "guidance_scale = 7.5\n",
    "num_images_per_prompt = 3\n",
    "num_inference_steps = 100\n",
    "\n",
    "generator = torch.Generator(device=device)\n",
    "seeds = []\n",
    "for _ in range(num_images_per_prompt):\n",
    "    seed = generator.seed()\n",
    "    seeds.append(seed)\n",
    "    \n",
    "\n",
    "for i in range(num_images_per_prompt):\n",
    "    generator = generator.manual_seed(seeds[i])\n",
    "    PipelineOut = pipe(prompt=prompt, image=init_image, num_inference_steps=num_inference_steps, strength=strength, guidance_scale=guidance_scale, generator=generator)\n",
    "    images = PipelineOut.images \n",
    "    images[0].save(\"./images/image_{}_{}.png\".format(str(i), str(seeds[i])))"
   ]
  },
  {
   "cell_type": "code",
   "execution_count": 17,
   "id": "52b74b2f-d4c5-4503-80c2-37095a5b1dea",
   "metadata": {
    "execution": {
     "iopub.execute_input": "2022-12-13T17:12:41.046587Z",
     "iopub.status.busy": "2022-12-13T17:12:41.045142Z",
     "iopub.status.idle": "2022-12-13T17:12:41.051907Z",
     "shell.execute_reply": "2022-12-13T17:12:41.051149Z",
     "shell.execute_reply.started": "2022-12-13T17:12:41.046545Z"
    }
   },
   "outputs": [
    {
     "data": {
      "text/plain": [
       "[2888509151495709, 4798389204581365, 7132277553665212]"
      ]
     },
     "execution_count": 17,
     "metadata": {},
     "output_type": "execute_result"
    }
   ],
   "source": [
    "seeds"
   ]
  },
  {
   "cell_type": "code",
   "execution_count": 24,
   "id": "072ed191-e57d-4873-8fc2-0971cc8daa03",
   "metadata": {
    "execution": {
     "iopub.execute_input": "2022-12-13T17:27:38.380401Z",
     "iopub.status.busy": "2022-12-13T17:27:38.379755Z",
     "iopub.status.idle": "2022-12-13T17:27:58.794636Z",
     "shell.execute_reply": "2022-12-13T17:27:58.793995Z",
     "shell.execute_reply.started": "2022-12-13T17:27:38.380378Z"
    }
   },
   "outputs": [
    {
     "data": {
      "application/vnd.jupyter.widget-view+json": {
       "model_id": "0d9ae2d8e8194284912fdd5677cfc8e4",
       "version_major": 2,
       "version_minor": 0
      },
      "text/plain": [
       "  0%|          | 0/90 [00:00<?, ?it/s]"
      ]
     },
     "metadata": {},
     "output_type": "display_data"
    }
   ],
   "source": [
    "seed = seeds[2]   \n",
    "num_images_per_prompt = 1\n",
    "generator.manual_seed(seed)\n",
    "\n",
    "PipelineOut = pipe(prompt=prompt, image=init_image, num_inference_steps=num_inference_steps, strength=strength, guidance_scale=guidance_scale, num_images_per_prompt=num_images_per_prompt, generator=generator)\n",
    "images = PipelineOut.images\n",
    "images[0].save(\"./images/final_99.png\")"
   ]
  }
 ],
 "metadata": {
  "kernelspec": {
   "display_name": "Python 3 (ipykernel)",
   "language": "python",
   "name": "python3"
  },
  "language_info": {
   "codemirror_mode": {
    "name": "ipython",
    "version": 3
   },
   "file_extension": ".py",
   "mimetype": "text/x-python",
   "name": "python",
   "nbconvert_exporter": "python",
   "pygments_lexer": "ipython3",
   "version": "3.9.13"
  }
 },
 "nbformat": 4,
 "nbformat_minor": 5
}
